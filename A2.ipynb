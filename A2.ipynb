{
  "metadata": {
    "kernelspec": {
      "name": "python",
      "display_name": "Python (Pyodide)",
      "language": "python"
    },
    "language_info": {
      "codemirror_mode": {
        "name": "python",
        "version": 3
      },
      "file_extension": ".py",
      "mimetype": "text/x-python",
      "name": "python",
      "nbconvert_exporter": "python",
      "pygments_lexer": "ipython3",
      "version": "3.8"
    }
  },
  "nbformat_minor": 4,
  "nbformat": 4,
  "cells": [
    {
      "cell_type": "code",
      "source": "#1\nimport numpy as np\n\n\ndef roots(f, a, b):\n\n    n = 1\n    while n != 30:\n\n        l1 = f(a)\n        l2 = f((b+a)/2)\n        l3 = f(b)\n\n        if l1 <= 0 <= l2 or l2 <= 0 <= l1:\n            a = a\n            b = (b+a) / 2\n            n += 1\n\n        else:\n            a = (b+a) / 2\n            b = b\n            n += 1\n\n    return (b + a) / 2\n\n\ndef f1(x):\n    return np.exp(x) + np.log(x)\n\n\nc = 0\nv = 1\n\nprint(roots(f1, c, v))\n",
      "metadata": {
        "trusted": true
      },
      "outputs": [
        {
          "name": "stdout",
          "text": "0.2698741378262639\n",
          "output_type": "stream"
        }
      ],
      "execution_count": 2
    },
    {
      "cell_type": "code",
      "source": "#2\nimport numpy as np\n\n\ndef roots(f, a, b):\n\n    n = 1\n    while n != 30:\n\n        l1 = f(a)\n        l2 = f((b+a)/2)\n        l3 = f(b)\n\n        if l1 <= 0 <= l2 or l2 <= 0 <= l1:\n            a = a\n            b = (b+a) / 2\n            n += 1\n\n        else:\n            a = (b+a) / 2\n            b = b\n            n += 1\n\n    return (b + a) / 2\n\n\ndef f1(x):\n    return np.arctan(x) - x**2\n\n\nc = 0\nv = 2\n\nprint(roots(f1, c, v))\n",
      "metadata": {
        "trusted": true
      },
      "outputs": [
        {
          "name": "stdout",
          "text": "1.862645149230957e-09\n",
          "output_type": "stream"
        }
      ],
      "execution_count": 3
    },
    {
      "cell_type": "code",
      "source": "#3\nimport numpy as np\n\n\ndef roots(f, a, b):\n\n    n = 1\n    while n != 30:\n\n        l1 = f(a)\n        l2 = f((b+a)/2)\n        l3 = f(b)\n\n        if l1 <= 0 <= l2 or l2 <= 0 <= l1:\n            a = a\n            b = (b+a) / 2\n            n += 1\n\n        else:\n            a = (b+a) / 2\n            b = b\n            n += 1\n\n    return (b + a) / 2\n\n\ndef f1(x):\n    return np.sin(x)/np.log(x)\n\n\nc = 3\nv = 4\n\nprint(roots(f1, c, v))",
      "metadata": {
        "trusted": true
      },
      "outputs": [
        {
          "name": "stdout",
          "text": "3.141592654399574\n",
          "output_type": "stream"
        }
      ],
      "execution_count": 5
    },
    {
      "cell_type": "code",
      "source": "#4\nimport numpy as np\n\n\ndef roots(f, a, b):\n\n    n = 1\n    while n != 30:\n\n        l1 = f(a)\n        l2 = f((b+a)/2)\n        l3 = f(b)\n\n        if l1 <= 0 <= l2 or l2 <= 0 <= l1:\n            a = a\n            b = (b+a) / 2\n            n += 1\n\n        else:\n            a = (b+a) / 2\n            b = b\n            n += 1\n\n    return (b + a) / 2\n\n\ndef f1(x):\n    return np.log(np.cos(x))\n\n\nc = 5\nv = 7\n\nprint(roots(f1, c, v))",
      "metadata": {
        "trusted": true
      },
      "outputs": [
        {
          "name": "stdout",
          "text": "6.999999998137355\n",
          "output_type": "stream"
        }
      ],
      "execution_count": 6
    },
    {
      "cell_type": "code",
      "source": "",
      "metadata": {
        "trusted": true
      },
      "outputs": [],
      "execution_count": null
    }
  ]
}