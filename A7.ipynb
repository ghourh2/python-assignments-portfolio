{
  "nbformat": 4,
  "nbformat_minor": 0,
  "metadata": {
    "colab": {
      "provenance": []
    },
    "kernelspec": {
      "name": "python3",
      "display_name": "Python 3"
    },
    "language_info": {
      "name": "python"
    }
  },
  "cells": [
    {
      "cell_type": "code",
      "execution_count": null,
      "metadata": {
        "colab": {
          "base_uri": "https://localhost:8080/"
        },
        "id": "7yTrfkAcg7nw",
        "outputId": "12e0e1d6-c98b-46d8-b74d-248252b845d7"
      },
      "outputs": [
        {
          "output_type": "stream",
          "name": "stdout",
          "text": [
            "mean 82.382\n",
            "std.dev. 10.193\n",
            "null hypothesis 75.0\n",
            "t0 2.290\n",
            "t* 2.252 for df=9 at 95.0%\n"
          ]
        }
      ],
      "source": [
        "import numpy as np\n",
        "from math import sqrt\n",
        "from scipy.special import gamma\n",
        "def compute_mean_and_std(data):\n",
        "    n = len(data)\n",
        "    mean = sum(data) / n\n",
        "    variance = sum((x - mean)**2 for x in data) / (n - 1)\n",
        "    std_dev = variance**0.5\n",
        "    return mean, std_dev, n\n",
        "def compute_t0(sample_mean, hypothesized_mean, sample_std, sample_size):\n",
        "    return (sample_mean - hypothesized_mean) / (sample_std / sqrt(sample_size))\n",
        "def t_distribution_pdf(x, nu):\n",
        "    coeff = gamma((nu + 1) / 2) / ( (nu * np.pi)**0.5 * gamma(nu / 2) )\n",
        "    return coeff * (1 + x*x / nu)**(-(nu + 1)/2)\n",
        "def find_t_star(prob, nu, x_start=0, x_end=20, num_points=10000):\n",
        "    x_vals = np.linspace(x_start, x_end, num_points)\n",
        "    y_vals = t_distribution_pdf(x_vals, nu)\n",
        "    dx = x_vals[1] - x_vals[0]\n",
        "    cdf_vals = np.cumsum(y_vals) * dx\n",
        "    target_half = prob / 2.0\n",
        "    idx = np.where(cdf_vals >= target_half)[0][0]\n",
        "    return x_vals[idx]\n",
        "def accept_null_hypothesis(t0, t_star):\n",
        "    return abs(t0) <= t_star\n",
        "if __name__ == \"__main__\":\n",
        "    scores = [92.64,79.00,84.79,97.41,93.68,65.23,84.50,73.49,73.97,79.11]\n",
        "    mu0 = 75.0\n",
        "    confidence = 0.95\n",
        "    mean_val, std_val, n = compute_mean_and_std(scores)\n",
        "    t0 = compute_t0(mean_val, mu0, std_val, n)\n",
        "    nu = n - 1\n",
        "    t_star = find_t_star(confidence, nu)\n",
        "    decision = accept_null_hypothesis(t0, t_star)\n",
        "    print(f\"mean {mean_val:.3f}\")\n",
        "    print(f\"std.dev. {std_val:.3f}\")\n",
        "    print(f\"null hypothesis {mu0}\")\n",
        "    print(f\"t0 {t0:.3f}\")\n",
        "    print(f\"t* {t_star:.3f} for df={nu} at {confidence*100:.1f}%\")\n"
      ]
    }
  ]
}