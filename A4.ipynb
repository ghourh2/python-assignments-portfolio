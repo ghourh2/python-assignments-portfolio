{
  "metadata": {
    "kernelspec": {
      "name": "python",
      "display_name": "Python (Pyodide)",
      "language": "python"
    },
    "language_info": {
      "codemirror_mode": {
        "name": "python",
        "version": 3
      },
      "file_extension": ".py",
      "mimetype": "text/x-python",
      "name": "python",
      "nbconvert_exporter": "python",
      "pygments_lexer": "ipython3",
      "version": "3.8"
    }
  },
  "nbformat_minor": 4,
  "nbformat": 4,
  "cells": [
    {
      "cell_type": "code",
      "source": "",
      "metadata": {
        "trusted": true
      },
      "outputs": [],
      "execution_count": null
    },
    {
      "cell_type": "code",
      "source": "import matplotlib.pyplot as plt\nimport numpy as np\ndef gradient_descent(f, learning_rate, initial_point, tol=1e-10, max_steps=10000):\n    def deriv(f, x):\n        delta = 1e-5\n        return (f(x + delta) - f(x - delta)) / (2 * delta)\n    x = initial_point\n    for _ in range(max_steps):\n        gradient = deriv(f, x)\n        if abs(gradient) < tol:\n            break\n        x = x - learning_rate * gradient\n    return x\n#1\nf1 = lambda x: x**2\nx_min = gradient_descent(f1, learning_rate=0.8, initial_point=1)\nprint(f\"x = {x_min}\")\n#2\nf2 = lambda x: x**4 - 2 * x**2\nx_min = gradient_descent(f2, learning_rate=0.1, initial_point=1.5)\nprint(f\"x = {x_min}\")\n#3\ndef funny_function(x):\n    if x > 0:\n        return x**x\n    elif x == 0:\n        return 1\n    else:\n        return abs(x)**abs(x)\nx_min = gradient_descent(funny_function, learning_rate=0.05, initial_point=0.5)\nprint(f\"x = {x_min}\")\n",
      "metadata": {
        "trusted": true
      },
      "outputs": [
        {
          "name": "stdout",
          "text": "x = -3.74204295126815e-11\nx = 0.9999999999423235\nx = 0.36787944126903627\n",
          "output_type": "stream"
        }
      ],
      "execution_count": 12
    },
    {
      "cell_type": "code",
      "source": "",
      "metadata": {
        "trusted": true
      },
      "outputs": [],
      "execution_count": null
    }
  ]
}