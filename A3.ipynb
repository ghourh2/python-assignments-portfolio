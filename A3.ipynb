{
  "metadata": {
    "kernelspec": {
      "name": "python",
      "display_name": "Python (Pyodide)",
      "language": "python"
    },
    "language_info": {
      "codemirror_mode": {
        "name": "python",
        "version": 3
      },
      "file_extension": ".py",
      "mimetype": "text/x-python",
      "name": "python",
      "nbconvert_exporter": "python",
      "pygments_lexer": "ipython3",
      "version": "3.8"
    }
  },
  "nbformat_minor": 4,
  "nbformat": 4,
  "cells": [
    {
      "cell_type": "code",
      "source": "",
      "metadata": {
        "trusted": true
      },
      "outputs": [],
      "execution_count": null
    },
    {
      "cell_type": "code",
      "source": "import numpy as np\ndef diff(f, x, delta_x=1e-8):\n    return (f(x + delta_x) - f(x - delta_x)) / (2 * delta_x)\ndef approx(f, c, E):\n    prime_c = diff(f, c)\n    def L(x):\n        return f(c) + prime_c * (x - c)\n    def find_x1_x2(f, L, c, E):\n        delta = 1e-4  \n        x1 = c - delta\n        while abs(f(x1) - L(x1)) < E:\n            x1 -= delta\n            if x1 < c - 1:\n                return \"N/A\"\n        x2 = c + delta\n        while abs(f(x2) - L(x2)) < E:\n            x2 += delta\n            if x2 > c + 1:\n                return \"N/A\"\n        return x1, x2\n    result = find_x1_x2(f, L, c, E)\n    return result\ntest = [\n    {\"f\":lambda x: x**2, \"c\": 1, \"E\": 0.1,},\n    {\"f\": lambda x: np.sin(x), \"c\": np.pi/4, \"E\": 0.05,},\n    {\"f\": lambda x: np.exp(x), \"c\": 0, \"E\": 0.01,}\n]\nfor case in test:\n    f = case[\"f\"]\n    c = case[\"c\"]\n    E = case[\"E\"]\n    result = approx(f, c, E)\n    print(f\"{result}\\n\")",
      "metadata": {
        "trusted": true
      },
      "outputs": [
        {
          "name": "stdout",
          "text": "(0.6837000000000348, 1.3162999999999652)\n\n(0.37779816339749317, 1.142798163397409)\n\n(-0.14490000000000036, 0.1382000000000011)\n\n",
          "output_type": "stream"
        }
      ],
      "execution_count": 19
    },
    {
      "cell_type": "code",
      "source": "",
      "metadata": {
        "trusted": true
      },
      "outputs": [],
      "execution_count": null
    }
  ]
}