{
  "nbformat": 4,
  "nbformat_minor": 0,
  "metadata": {
    "colab": {
      "provenance": []
    },
    "kernelspec": {
      "name": "python3",
      "display_name": "Python 3"
    },
    "language_info": {
      "name": "python"
    }
  },
  "cells": [
    {
      "cell_type": "code",
      "source": [
        "import numpy as np\n",
        "import matplotlib.pyplot as plt\n",
        "from mpl_toolkits.mplot3d import Axes3D\n",
        "#a-----------------------\n",
        "def gradient_descent(x0, y0, f, grad_f, alpha, num_iterations):\n",
        "    x, y = x0, y0\n",
        "    for i in range(num_iterations):\n",
        "        grad_x, grad_y = grad_f(x, y)\n",
        "        x = x - alpha * grad_x\n",
        "        y = y - alpha * grad_y\n",
        "    return x, y\n",
        "#b---------------------\n",
        "def fun_1(x, y):\n",
        "    return x**2 + y**2\n",
        "def grad_f_1(x, y):\n",
        "    return 2*x, 2*y\n",
        "# test A----------------------------\n",
        "x0_A, y0_A = 0.1, 0.1\n",
        "alpha_A = 0.1\n",
        "iterations_A = 10\n",
        "xA_final, yA_final = gradient_descent(x0_A, y0_A, fun_1, grad_f_1, alpha_A, iterations_A)\n",
        "print(\"[f1] test A final point:\", (xA_final, yA_final))\n",
        "# test B----------------------------\n",
        "x0_B, y0_B = -1, 1\n",
        "alpha_B = 0.01\n",
        "iterations_B = 100\n",
        "xB_final, yB_final = gradient_descent(x0_B, y0_B, fun_1, grad_f_1, alpha_B, iterations_B)\n",
        "print(\"[f1] test B final point:\", (xB_final, yB_final))\n",
        "# c-----------------------------------\n",
        "def fun_2(x, y):\n",
        "    return 1 - np.exp(-x**2 - (y-2)**2) - 2*np.exp(-x**2 - (y+2)**2)\n",
        "def grad_f_2(x, y):\n",
        "    E1 = np.exp(-x**2 - (y-2)**2)\n",
        "    E2 = np.exp(-x**2 - (y+2)**2)\n",
        "    grad_x = 2*x*E1 + 4*x*E2\n",
        "    grad_y = 2*(y-2)*E1 + 4*(y+2)*E2\n",
        "    return grad_x, grad_y\n",
        "# Case 1--------------------------\n",
        "x0_C1, y0_C1 = 0, 1\n",
        "alpha_C1 = 0.01\n",
        "iterations_C1 = 10000\n",
        "xC1_final, yC1_final = gradient_descent(x0_C1, y0_C1, fun_2, grad_f_2, alpha_C1, iterations_C1)\n",
        "print(\"[f2] from (0,1) final point:\", (xC1_final, yC1_final))\n",
        "# Case 2----------------------------\n",
        "x0_C2, y0_C2 = 0, -1\n",
        "alpha_C2 = 0.01\n",
        "iterations_C2 = 10000\n",
        "xC2_final, yC2_final = gradient_descent(x0_C2, y0_C2, fun_2, grad_f_2, alpha_C2, iterations_C2)\n",
        "print(\"[f2] from (0,-1) final point:\", (xC2_final, yC2_final))"
      ],
      "metadata": {
        "colab": {
          "base_uri": "https://localhost:8080/"
        },
        "id": "d3j4T7u0EZf9",
        "outputId": "b3b7871d-b258-4e25-f8b8-47cd31239cc1"
      },
      "execution_count": 7,
      "outputs": [
        {
          "output_type": "stream",
          "name": "stdout",
          "text": [
            "[f1] test A final point: (0.010737418240000003, 0.010737418240000003)\n",
            "[f1] test B final point: (-0.13261955589475316, 0.13261955589475316)\n",
            "[f2] from (0,1) final point: (np.float64(0.0), np.float64(1.9999990997123154))\n",
            "[f2] from (0,-1) final point: (np.float64(0.0), np.float64(-1.9999997749292553))\n"
          ]
        }
      ]
    }
  ]
}